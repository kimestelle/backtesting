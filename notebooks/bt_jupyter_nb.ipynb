{
  "cells": [
    {
      "cell_type": "code",
      "execution_count": null,
      "id": "fc4f969f-1e3e-4989-a97a-4c233ecb2db4",
      "metadata": {
        "id": "fc4f969f-1e3e-4989-a97a-4c233ecb2db4"
      },
      "outputs": [],
      "source": [
        "%%capture\n",
        "!pip install backtrader\n",
        "!pip install alpaca_trade_api\n",
        "!pip install matplotlib==3.2.2\n",
        "!pip install plotly\n",
        "\n",
        "from alpaca_trade_api.rest import REST, TimeFrame\n",
        "from alpaca_trade_api.stream import Stream\n",
        "\n",
        "rest_api = REST('AKXKB49BPKG6AEHWDECQ', 'VJi42tuIWA0wwLdd9kkPQrzjDgbYDTIQO', 'https://paper-api.alpaca.markets')\n",
        "\n",
        "# retrieve daily bar data for SPY in a dataframe\n",
        "spy_bars = rest_api.get_bars('SPY', TimeFrame.Day, '2021-01-01', '2021-03-30').df\n",
        "spy_bars.head(3)\n",
        "\n",
        "# quote and trade data also available for equities\n",
        "# spy_quotes = rest_api.get_quotes('SPY', '2021-01-01', '2021-01-05').df\n",
        "# spy_trades = rest_api.get_trades('SPY', '2021-01-01', '2021-01-05').df\n",
        "\n",
        "# calculating 5 day SMA using pandas rolling mean\n",
        "sma = spy_bars['close'].rolling(5).mean().dropna()\n",
        "\n",
        "# creating a line plot for our sma\n",
        "sma_fig = px.line(x=sma.index, y=sma)\n",
        "\n",
        "# adding both plots onto one chart\n",
        "fig = go.Figure(data=candlestick_fig.data + sma_fig.data)\n",
        "\n",
        "# displaying our chart\n",
        "fig.show()"
      ]
    },
    {
      "cell_type": "markdown",
      "source": [
        "# New Section"
      ],
      "metadata": {
        "id": "88sADaL9pTVj"
      },
      "id": "88sADaL9pTVj"
    },
    {
      "cell_type": "code",
      "source": [
        " backtrader as bt\n",
        "import matplotlib as mpl\n",
        "mpl.rcParams['figure.dpi'] = 140 # chart resolution\n",
        "\n",
        "def run_backtest(strategy, symbols, start, end, timeframe=TimeFrame.Day, cash=10000):\n",
        "    '''params:\n",
        "        strategy: the strategy you wish to backtest, an instance of backtrader.Strategy\n",
        "        symbols: the symbol (str) or list of symbols List[str] you wish to backtest on\n",
        "        start: start date of backtest in format 'YYYY-MM-DD'\n",
        "        end: end date of backtest in format: 'YYYY-MM-DD'\n",
        "        timeframe: the timeframe the strategy trades on (size of bars) -\n",
        "                   1 min: TimeFrame.Minute, 1 day: TimeFrame.Day, 5 min: TimeFrame(5, TimeFrameUnit.Minute)\n",
        "        cash: the starting cash of backtest\n",
        "    '''\n",
        "\n",
        "    # initialize backtrader broker\n",
        "    cerebro = bt.Cerebro(stdstats=True)\n",
        "    cerebro.broker.setcash(cash)\n",
        "\n",
        "    # add strategy\n",
        "    cerebro.addstrategy(strategy)\n",
        "\n",
        "    # add analytics\n",
        "    # cerebro.addobserver(bt.observers.Value)\n",
        "    # cerebro.addobserver(bt.observers.BuySell)\n",
        "    cerebro.addanalyzer(bt.analyzers.SharpeRatio, _name='mysharpe')\n",
        "\n",
        "    # historical data request\n",
        "    if type(symbols) == str:\n",
        "        symbol = symbols\n",
        "        alpaca_data = rest_api.get_bars(symbol, timeframe, start, end,  adjustment='all').df\n",
        "        data = bt.feeds.PandasData(dataname=alpaca_data, name=symbol)\n",
        "        cerebro.adddata(data)\n",
        "    elif type(symbols) == list or type(symbols) == set:\n",
        "        for symbol in symbols:\n",
        "            alpaca_data = rest_api.get_bars(symbol, timeframe, start, end, adjustment='all').df\n",
        "            data = bt.feeds.PandasData(dataname=alpaca_data, name=symbol)\n",
        "            cerebro.adddata(data)\n",
        "\n",
        "    # run\n",
        "    initial_portfolio_value = cerebro.broker.getvalue()\n",
        "    print(f'Starting Portfolio Value: {initial_portfolio_value}')\n",
        "    results = cerebro.run()\n",
        "    final_portfolio_value = cerebro.broker.getvalue()\n",
        "    print(f'Final Portfolio Value: {final_portfolio_value} ---> Return: {(final_portfolio_value/initial_portfolio_value - 1)*100}%')\n",
        "\n",
        "    strat = results[0]\n",
        "    print('Sharpe Ratio:', strat.analyzers.mysharpe.get_analysis()['sharperatio'])\n",
        "    cerebro.plot(iplot= False)\n",
        "\n",
        "\n",
        "    class SmaCross(bt.Strategy):\n",
        "  # list of parameters which are configurable for the strategy\n",
        "    params = dict(\n",
        "        pfast=13,  # period for the fast moving average\n",
        "        pslow=25   # period for the slow moving average\n",
        "    )\n",
        "\n",
        "    def __init__(self):\n",
        "        sma1 = bt.ind.SMA(period=self.p.pfast)  # fast moving average\n",
        "        sma2 = bt.ind.SMA(period=self.p.pslow)  # slow moving average\n",
        "        self.crossover = bt.ind.CrossOver(sma1, sma2)  # crossover signal"
      ],
      "metadata": {
        "id": "CFg5Rh4WpUqF"
      },
      "id": "CFg5Rh4WpUqF",
      "execution_count": null,
      "outputs": []
    }
  ],
  "metadata": {
    "kernelspec": {
      "display_name": "Python 3 (ipykernel)",
      "language": "python",
      "name": "python3"
    },
    "language_info": {
      "codemirror_mode": {
        "name": "ipython",
        "version": 3
      },
      "file_extension": ".py",
      "mimetype": "text/x-python",
      "name": "python",
      "nbconvert_exporter": "python",
      "pygments_lexer": "ipython3",
      "version": "3.12.4"
    },
    "colab": {
      "provenance": [],
      "toc_visible": true
    }
  },
  "nbformat": 4,
  "nbformat_minor": 5
}